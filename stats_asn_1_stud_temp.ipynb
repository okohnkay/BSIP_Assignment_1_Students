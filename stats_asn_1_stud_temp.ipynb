{
 "cells": [
  {
   "cell_type": "code",
   "execution_count": 6,
   "metadata": {},
   "outputs": [],
   "source": [
    "import thinkplot\n",
    "import thinkstats2\n",
    "import pandas as pd\n",
    "import numpy as np\n",
    "import scipy\n",
    "import seaborn as sns\n",
    "from matplotlib import pyplot as plt"
   ]
  },
  {
   "cell_type": "markdown",
   "metadata": {},
   "source": [
    "# Assignment #1 - Basic Data Exploration in Python\n",
    "\n",
    "## Assignment Overview\n",
    "\n",
    "In this assignment you'll load some data into a python notebook, and use some basic functions to do some basic analysis. Each section asks you to either calculate some answers or explore some information found in the data. When generating your answers, try to think about a few factors that can make your code better:\n",
    "<ul>\n",
    "<li> Present the answers clearly. Use the markdown cells, code comments, and formatting to help make your answers readable. One of the features of notebooks is that they allow us to combine code and commentary, and we need to ensure both are readable. Refer to the guide in the guides folder of the exercises workbook for an explaination and examples of different formatting. \n",
    "<li> Make your code clear. It is easy to make sense of small pieces of code, for short periods of time, so if your code makes little sense here, it won't really hurt your ability to find the answers. If you need to come back to it later, or others need to edit it, having code that doesn't make sense is a big issue. Use things like clearly named variables, comments, and spacing to make things readable. Even in this course, if you are looking back to something from 2 months ago for the project, it is far easier to understand code that is cleaned up a little. \n",
    "<li> Structure the code well. If there is some kind of repetitive task, it should likely be moved into a function. If there is something that happens several times, it should be in a loop. Having well structured code makes it easy to reuse stuff later, understand how things work, debug errors, and share code with others. This is something to keep in the back of your minds, right now you may not have much experience to lean on to judge how things should be, as you read, adjust, and write code it will become more clear. \n",
    "</ul>\n",
    "\n",
    "## Peer Evaluation\n",
    "\n",
    "This assignemnt will have a peer evaluation for the grade - you'll each read some other notebooks and evaluate their answers. The reason for this is not (entirely) my personal laziness, we are hoping to accomplish a couple of things:\n",
    "<ul>\n",
    "<li> Quick experience reading notebooks. One of the important skills we need to have is the ability to read examples that we find and adapting it to our scenario. This is practice with data you're now comfortable with.\n",
    "<li> Critically evaluating what makes sense in a data notebook. You know how you attempted to explain your look at the data, how did other people do it? What was better? What was worse?\n",
    "<li> Design is subjective. This will give you a set of opinions that are not mine. You will end up with plenty of feedback of what I think, feadback of others early-on should hopefully help you make things appealing to all and not tailored to me. \n",
    "</ul>\n",
    "Doing this right up front will hopefully help kickstart some of that expericence. \n",
    "\n",
    "### Grading\n",
    "\n",
    "The detailed grading is defined in the marking guide in the Moodle workshop. Note that there's points both for getting a correct answer and for presenting it in a way that makes sense. \n",
    "\n",
    "## Structure\n",
    "\n",
    "Each section contains a set of questions/prompts and a rough framework for your responses. You can change the structure around, just make sure it is readable. What I have there is just a loose guide to help get you started, you're not bound to it. "
   ]
  },
  {
   "cell_type": "markdown",
   "metadata": {},
   "source": [
    "## Load Data\n",
    "\n",
    "Load the labor data into a dataframe. You probably don't want to change this section. "
   ]
  },
  {
   "cell_type": "code",
   "execution_count": 7,
   "metadata": {},
   "outputs": [
    {
     "data": {
      "text/html": [
       "<div>\n",
       "<style scoped>\n",
       "    .dataframe tbody tr th:only-of-type {\n",
       "        vertical-align: middle;\n",
       "    }\n",
       "\n",
       "    .dataframe tbody tr th {\n",
       "        vertical-align: top;\n",
       "    }\n",
       "\n",
       "    .dataframe thead th {\n",
       "        text-align: right;\n",
       "    }\n",
       "</style>\n",
       "<table border=\"1\" class=\"dataframe\">\n",
       "  <thead>\n",
       "    <tr style=\"text-align: right;\">\n",
       "      <th></th>\n",
       "      <th>1 Age</th>\n",
       "      <th>Eduacation</th>\n",
       "      <th>Race</th>\n",
       "      <th>Hisp</th>\n",
       "      <th>MaritalStatus</th>\n",
       "      <th>Nodeg</th>\n",
       "      <th>Earnings_1974</th>\n",
       "      <th>Earnings_1975</th>\n",
       "      <th>Earnings_1978</th>\n",
       "    </tr>\n",
       "  </thead>\n",
       "  <tbody>\n",
       "    <tr>\n",
       "      <th>0</th>\n",
       "      <td>45</td>\n",
       "      <td>LessThanHighSchool</td>\n",
       "      <td>NotBlack</td>\n",
       "      <td>NotHispanic</td>\n",
       "      <td>Married</td>\n",
       "      <td>1</td>\n",
       "      <td>21516.670</td>\n",
       "      <td>25243.550</td>\n",
       "      <td>25564.670</td>\n",
       "    </tr>\n",
       "    <tr>\n",
       "      <th>1</th>\n",
       "      <td>21</td>\n",
       "      <td>Intermediate</td>\n",
       "      <td>NotBlack</td>\n",
       "      <td>NotHispanic</td>\n",
       "      <td>NotMarried</td>\n",
       "      <td>0</td>\n",
       "      <td>3175.971</td>\n",
       "      <td>5852.565</td>\n",
       "      <td>13496.080</td>\n",
       "    </tr>\n",
       "    <tr>\n",
       "      <th>2</th>\n",
       "      <td>38</td>\n",
       "      <td>HighSchool</td>\n",
       "      <td>NotBlack</td>\n",
       "      <td>NotHispanic</td>\n",
       "      <td>Married</td>\n",
       "      <td>0</td>\n",
       "      <td>23039.020</td>\n",
       "      <td>25130.760</td>\n",
       "      <td>25564.670</td>\n",
       "    </tr>\n",
       "    <tr>\n",
       "      <th>3</th>\n",
       "      <td>48</td>\n",
       "      <td>LessThanHighSchool</td>\n",
       "      <td>NotBlack</td>\n",
       "      <td>NotHispanic</td>\n",
       "      <td>Married</td>\n",
       "      <td>1</td>\n",
       "      <td>24994.370</td>\n",
       "      <td>25243.550</td>\n",
       "      <td>25564.670</td>\n",
       "    </tr>\n",
       "    <tr>\n",
       "      <th>4</th>\n",
       "      <td>18</td>\n",
       "      <td>LessThanHighSchool</td>\n",
       "      <td>NotBlack</td>\n",
       "      <td>NotHispanic</td>\n",
       "      <td>Married</td>\n",
       "      <td>1</td>\n",
       "      <td>1669.295</td>\n",
       "      <td>10727.610</td>\n",
       "      <td>9860.869</td>\n",
       "    </tr>\n",
       "  </tbody>\n",
       "</table>\n",
       "</div>"
      ],
      "text/plain": [
       "   1 Age          Eduacation      Race         Hisp MaritalStatus  Nodeg  \\\n",
       "0     45  LessThanHighSchool  NotBlack  NotHispanic       Married      1   \n",
       "1     21        Intermediate  NotBlack  NotHispanic    NotMarried      0   \n",
       "2     38          HighSchool  NotBlack  NotHispanic       Married      0   \n",
       "3     48  LessThanHighSchool  NotBlack  NotHispanic       Married      1   \n",
       "4     18  LessThanHighSchool  NotBlack  NotHispanic       Married      1   \n",
       "\n",
       "   Earnings_1974  Earnings_1975  Earnings_1978  \n",
       "0      21516.670      25243.550      25564.670  \n",
       "1       3175.971       5852.565      13496.080  \n",
       "2      23039.020      25130.760      25564.670  \n",
       "3      24994.370      25243.550      25564.670  \n",
       "4       1669.295      10727.610       9860.869  "
      ]
     },
     "execution_count": 7,
     "metadata": {},
     "output_type": "execute_result"
    }
   ],
   "source": [
    "#Load/preview data\n",
    "df = pd.read_csv(\"LabourTrainingEvaluationData.csv\")\n",
    "df.head()"
   ]
  },
  {
   "cell_type": "code",
   "execution_count": 8,
   "metadata": {},
   "outputs": [
    {
     "data": {
      "text/html": [
       "<div>\n",
       "<style scoped>\n",
       "    .dataframe tbody tr th:only-of-type {\n",
       "        vertical-align: middle;\n",
       "    }\n",
       "\n",
       "    .dataframe tbody tr th {\n",
       "        vertical-align: top;\n",
       "    }\n",
       "\n",
       "    .dataframe thead th {\n",
       "        text-align: right;\n",
       "    }\n",
       "</style>\n",
       "<table border=\"1\" class=\"dataframe\">\n",
       "  <thead>\n",
       "    <tr style=\"text-align: right;\">\n",
       "      <th></th>\n",
       "      <th>1 Age</th>\n",
       "      <th>Nodeg</th>\n",
       "      <th>Earnings_1974</th>\n",
       "      <th>Earnings_1975</th>\n",
       "      <th>Earnings_1978</th>\n",
       "    </tr>\n",
       "  </thead>\n",
       "  <tbody>\n",
       "    <tr>\n",
       "      <th>count</th>\n",
       "      <td>15992.000000</td>\n",
       "      <td>15992.000000</td>\n",
       "      <td>15992.000000</td>\n",
       "      <td>15992.000000</td>\n",
       "      <td>15992.000000</td>\n",
       "    </tr>\n",
       "    <tr>\n",
       "      <th>mean</th>\n",
       "      <td>33.225238</td>\n",
       "      <td>0.295835</td>\n",
       "      <td>14016.800304</td>\n",
       "      <td>13650.803376</td>\n",
       "      <td>14846.659673</td>\n",
       "    </tr>\n",
       "    <tr>\n",
       "      <th>std</th>\n",
       "      <td>11.045216</td>\n",
       "      <td>0.456432</td>\n",
       "      <td>9569.795893</td>\n",
       "      <td>9270.403225</td>\n",
       "      <td>9647.391524</td>\n",
       "    </tr>\n",
       "    <tr>\n",
       "      <th>min</th>\n",
       "      <td>16.000000</td>\n",
       "      <td>0.000000</td>\n",
       "      <td>0.000000</td>\n",
       "      <td>0.000000</td>\n",
       "      <td>0.000000</td>\n",
       "    </tr>\n",
       "    <tr>\n",
       "      <th>25%</th>\n",
       "      <td>24.000000</td>\n",
       "      <td>0.000000</td>\n",
       "      <td>4403.452250</td>\n",
       "      <td>4398.823000</td>\n",
       "      <td>5669.298000</td>\n",
       "    </tr>\n",
       "    <tr>\n",
       "      <th>50%</th>\n",
       "      <td>31.000000</td>\n",
       "      <td>0.000000</td>\n",
       "      <td>15123.580000</td>\n",
       "      <td>14557.110000</td>\n",
       "      <td>16421.975000</td>\n",
       "    </tr>\n",
       "    <tr>\n",
       "      <th>75%</th>\n",
       "      <td>42.000000</td>\n",
       "      <td>1.000000</td>\n",
       "      <td>23584.180000</td>\n",
       "      <td>22923.737500</td>\n",
       "      <td>25564.670000</td>\n",
       "    </tr>\n",
       "    <tr>\n",
       "      <th>max</th>\n",
       "      <td>55.000000</td>\n",
       "      <td>1.000000</td>\n",
       "      <td>25862.320000</td>\n",
       "      <td>25243.550000</td>\n",
       "      <td>25564.670000</td>\n",
       "    </tr>\n",
       "  </tbody>\n",
       "</table>\n",
       "</div>"
      ],
      "text/plain": [
       "              1 Age         Nodeg  Earnings_1974  Earnings_1975  Earnings_1978\n",
       "count  15992.000000  15992.000000   15992.000000   15992.000000   15992.000000\n",
       "mean      33.225238      0.295835   14016.800304   13650.803376   14846.659673\n",
       "std       11.045216      0.456432    9569.795893    9270.403225    9647.391524\n",
       "min       16.000000      0.000000       0.000000       0.000000       0.000000\n",
       "25%       24.000000      0.000000    4403.452250    4398.823000    5669.298000\n",
       "50%       31.000000      0.000000   15123.580000   14557.110000   16421.975000\n",
       "75%       42.000000      1.000000   23584.180000   22923.737500   25564.670000\n",
       "max       55.000000      1.000000   25862.320000   25243.550000   25564.670000"
      ]
     },
     "execution_count": 8,
     "metadata": {},
     "output_type": "execute_result"
    }
   ],
   "source": [
    "df.describe()"
   ]
  },
  {
   "cell_type": "markdown",
   "metadata": {},
   "source": [
    "## Part 1 - Age\n",
    "\n",
    "<ol>\n",
    "<li> Make and plot a Hist and Pmf for age.\n",
    "<li> What fraction of the people in the data are 51? What fraction are older than 51?\n",
    "<li> What is the median age? \n",
    "<li> Does the distribution of the sample data seem to mirror the working age population?\n",
    "</ol>"
   ]
  },
  {
   "cell_type": "markdown",
   "metadata": {},
   "source": [
    "#### Make and plot a Hist and Pmf for age."
   ]
  },
  {
   "cell_type": "code",
   "execution_count": 22,
   "metadata": {},
   "outputs": [
    {
     "name": "stdout",
     "output_type": "stream",
     "text": [
      "The mean of the Age data is: 33.23\n",
      "The median of the Age data is: 31.0\n"
     ]
    },
    {
     "data": {
      "image/png": "[encoded data removed]",
      "text/plain": [
       "<Figure size 432x288 with 1 Axes>"
      ]
     },
     "metadata": {
      "needs_background": "light"
     },
     "output_type": "display_data"
    }
   ],
   "source": [
    "from ctypes import alignment\n",
    "import thinkplot\n",
    "import thinkstats2\n",
    "import pandas as pd\n",
    "import numpy as np\n",
    "\n",
    "data_path = \"LabourTrainingEvaluationData.csv\"\n",
    "BSIP_1 = pd.read_csv(data_path)\n",
    "\n",
    "Age_data= BSIP_1[\"Age\"]\n",
    "Age_hist=thinkstats2.Hist(BSIP_1['Age'])\n",
    "thinkplot.Hist(Age_hist)\n",
    "thinkplot.Config(ylabel=\"Count\", xlabel=\" Age\")\n",
    "Age_data_mean= Age_data.mean()\n",
    "Age_data_median= Age_data.median()\n",
    "print(\"The mean of the Age data is:\",round((Age_data_mean),2))\n",
    "print(\"The median of the Age data is:\",round((Age_data_median),2))\n",
    "\n",
    "\n",
    "Age_pmf=thinkstats2.Pmf(BSIP_1['Age'])\n",
    "thinkplot.Pmf(Age_pmf)\n",
    "thinkplot.Config(ylabel=\"Count\", xlabel=\" Age\")"
   ]
  },
  {
   "cell_type": "markdown",
   "metadata": {},
   "source": [
    "#### What fraction of the people in the data are 51? What fraction are older than 51?"
   ]
  },
  {
   "cell_type": "code",
   "execution_count": 23,
   "metadata": {},
   "outputs": [
    {
     "name": "stdout",
     "output_type": "stream",
     "text": [
      "The fraction of people age 51 is; 50\n",
      "The fraction of people age above 51 is; 13\n"
     ]
    }
   ],
   "source": [
    "Age_data= Age_data[~np.isnan(Age_data)]\n",
    "age_fiftyone =sum(Age_data==51)\n",
    "age_fiftyoneabove =sum(Age_data>51)\n",
    "\n",
    "frac_age_fiftyone= ((BSIP_1.shape[0])//age_fiftyone )\n",
    "frac_age_fiftyoneabove= ((BSIP_1.shape[0])//age_fiftyoneabove )\n",
    "print (\"The fraction of people age 51 is;\", frac_age_fiftyone)\n",
    "print (\"The fraction of people age above 51 is;\", frac_age_fiftyoneabove)"
   ]
  },
  {
   "cell_type": "markdown",
   "metadata": {},
   "source": [
    "##### What is the median age?"
   ]
  },
  {
   "cell_type": "code",
   "execution_count": 24,
   "metadata": {},
   "outputs": [
    {
     "name": "stdout",
     "output_type": "stream",
     "text": [
      "The mean of the Age data is: 33.23\n",
      "The median of the Age data is: 31.0\n"
     ]
    }
   ],
   "source": [
    "Age_data_mean= Age_data.mean()\n",
    "Age_data_median= Age_data.median()\n",
    "print(\"The mean of the Age data is:\",round((Age_data_mean),2))\n",
    "print(\"The median of the Age data is:\",round((Age_data_median),2))"
   ]
  },
  {
   "cell_type": "markdown",
   "metadata": {},
   "source": [
    "##### Does the distribution of the sample data seem to mirror the working age population?"
   ]
  },
  {
   "cell_type": "markdown",
   "metadata": {},
   "source": []
  },
  {
   "cell_type": "markdown",
   "metadata": {},
   "source": [
    "### Part 2 - Demographics\n",
    "\n",
    "<ul>\n",
    "<li>Consider some of the demographic features: \n",
    "    <ul>\n",
    "    <li>Education\n",
    "    <li>Race\n",
    "    <li>Hisp\n",
    "    <li>MaritalStatus\n",
    "    <li>Nodeg. \n",
    "    </ul>\n",
    "</ul>\n",
    "<ol>\n",
    "<li>This data came from the United States, does it appear to be a representative sample of the US population?\n",
    "<li>Demonstrate this in some way in your code. \n",
    "</ol>\n",
    "\n",
    "##### Exploring the data..."
   ]
  },
  {
   "cell_type": "code",
   "execution_count": 26,
   "metadata": {},
   "outputs": [
    {
     "name": "stdout",
     "output_type": "stream",
     "text": [
      "332403650\n",
      "                 Age  Eduacation      Race         Hisp MaritalStatus  \\\n",
      "count   15992.000000       15992     15992        15992         15992   \n",
      "unique           NaN           5         2            2             2   \n",
      "top              NaN  HighSchool  NotBlack  NotHispanic       Married   \n",
      "freq             NaN        6252     14816        14840         11382   \n",
      "mean       33.225238         NaN       NaN          NaN           NaN   \n",
      "std        11.045216         NaN       NaN          NaN           NaN   \n",
      "min        16.000000         NaN       NaN          NaN           NaN   \n",
      "25%        24.000000         NaN       NaN          NaN           NaN   \n",
      "50%        31.000000         NaN       NaN          NaN           NaN   \n",
      "75%        42.000000         NaN       NaN          NaN           NaN   \n",
      "max        55.000000         NaN       NaN          NaN           NaN   \n",
      "\n",
      "               Nodeg  Earnings_1974  Earnings_1975  Earnings_1978  \n",
      "count   15992.000000   15992.000000   15992.000000   15992.000000  \n",
      "unique           NaN            NaN            NaN            NaN  \n",
      "top              NaN            NaN            NaN            NaN  \n",
      "freq             NaN            NaN            NaN            NaN  \n",
      "mean        0.295835   14016.800304   13650.803376   14846.659673  \n",
      "std         0.456432    9569.795893    9270.403225    9647.391524  \n",
      "min         0.000000       0.000000       0.000000       0.000000  \n",
      "25%         0.000000    4403.452250    4398.823000    5669.298000  \n",
      "50%         0.000000   15123.580000   14557.110000   16421.975000  \n",
      "75%         1.000000   23584.180000   22923.737500   25564.670000  \n",
      "max         1.000000   25862.320000   25243.550000   25564.670000  \n"
     ]
    },
    {
     "data": {
      "text/plain": [
       "HighSchool            6252\n",
       "Intermediate          2708\n",
       "LessThanHighSchool    4731\n",
       "PostGraduate           934\n",
       "graduate              1367\n",
       "Name: Eduacation, dtype: int64"
      ]
     },
     "execution_count": 26,
     "metadata": {},
     "output_type": "execute_result"
    },
    {
     "data": {
      "image/png": "[encoded data removed]",
      "text/plain": [
       "<Figure size 432x288 with 1 Axes>"
      ]
     },
     "metadata": {
      "needs_background": "light"
     },
     "output_type": "display_data"
    }
   ],
   "source": [
    "#Based on the count and sus per US Census Bureau, the population as at Jan,2022 is 332,403,650. \n",
    "#sorted value for Education show that less than 10% of the  current population was analysed. \n",
    "# Hence this is not a true repesentation of the population\n",
    "\n",
    "us_population= 332403650\n",
    "print (us_population)\n",
    "\n",
    "\n",
    "data_path = \"LabourTrainingEvaluationData.csv\"\n",
    "BSIP_1 = pd.read_csv(data_path)\n",
    "print(BSIP_1.describe(include=\"all\"))\n",
    "\n",
    "\n",
    "width=0.4\n",
    "education_data= BSIP_1[\"Eduacation\"]\n",
    "education_hist=thinkstats2.Hist(BSIP_1['Eduacation'])\n",
    "thinkplot.Hist(education_hist,align='left',width=width)\n",
    "thinkplot.Config(ylabel=\"Count\", xlabel=\" Category\")\n",
    "\n",
    "BSIP_1['Eduacation'].value_counts().sort_index()\n"
   ]
  },
  {
   "cell_type": "code",
   "execution_count": 27,
   "metadata": {},
   "outputs": [
    {
     "data": {
      "text/plain": [
       "NotHispanic    14840\n",
       "hispanic        1152\n",
       "Name: Hisp, dtype: int64"
      ]
     },
     "execution_count": 27,
     "metadata": {},
     "output_type": "execute_result"
    },
    {
     "data": {
      "image/png": "[encoded data removed]",
      "text/plain": [
       "<Figure size 432x288 with 1 Axes>"
      ]
     },
     "metadata": {
      "needs_background": "light"
     },
     "output_type": "display_data"
    }
   ],
   "source": [
    "#Based on the count from \"Hisp\" data and US Census Bureau, the population as at Jan,2022 is 332,403,650. \n",
    "#sorted value for Hisp show that less than 10% of the  current population was analysed. \n",
    "# Hence this is not a true repesentation of the population\n",
    "width=0.4\n",
    "hisp_data= BSIP_1[\"Hisp\"]\n",
    "hisp_hist=thinkstats2.Hist(BSIP_1['Hisp'])\n",
    "thinkplot.Hist(hisp_hist,align='left',width=width)\n",
    "thinkplot.Config(ylabel=\"Count\", xlabel=\" Category\")\n",
    "\n",
    "BSIP_1['Hisp'].value_counts().sort_index()\n"
   ]
  },
  {
   "cell_type": "code",
   "execution_count": 28,
   "metadata": {},
   "outputs": [
    {
     "data": {
      "text/plain": [
       "Married       11382\n",
       "NotMarried     4610\n",
       "Name: MaritalStatus, dtype: int64"
      ]
     },
     "execution_count": 28,
     "metadata": {},
     "output_type": "execute_result"
    },
    {
     "data": {
      "image/png": "[encoded data removed]",
      "text/plain": [
       "<Figure size 432x288 with 1 Axes>"
      ]
     },
     "metadata": {
      "needs_background": "light"
     },
     "output_type": "display_data"
    }
   ],
   "source": [
    "#Based on the count from \"Marital Status\" data and US Census Bureau, the population as at Jan,2022 is 332,403,650. \n",
    "#sorted value for Marital Status show that less than 10% of the  current population was analysed. \n",
    "# Hence this is not a true repesentation of the population\n",
    "width=0.4\n",
    "ms_data= BSIP_1[\"MaritalStatus\"]\n",
    "ms_hist=thinkstats2.Hist(BSIP_1['MaritalStatus'])\n",
    "thinkplot.Hist(ms_hist,align='left',width=width)\n",
    "thinkplot.Config(ylabel=\"Count\", xlabel=\" Category\")\n",
    "\n",
    "BSIP_1['MaritalStatus'].value_counts().sort_index()"
   ]
  },
  {
   "cell_type": "code",
   "execution_count": 29,
   "metadata": {},
   "outputs": [
    {
     "data": {
      "text/plain": [
       "0    11261\n",
       "1     4731\n",
       "Name: Nodeg, dtype: int64"
      ]
     },
     "execution_count": 29,
     "metadata": {},
     "output_type": "execute_result"
    },
    {
     "data": {
      "image/png": "[encoded data removed]",
      "text/plain": [
       "<Figure size 432x288 with 1 Axes>"
      ]
     },
     "metadata": {
      "needs_background": "light"
     },
     "output_type": "display_data"
    }
   ],
   "source": [
    "#Based on the count from \"No deg\" data and US Census Bureau, the population as at Jan,2022 is 332,403,650. \n",
    "#sorted value for No deg show that less than 10% of the  current population was analysed. \n",
    "# Hence this is not a true representation of the population\n",
    "width=0.4\n",
    "nodeg_data= BSIP_1[\"Nodeg\"]\n",
    "nodeg_hist=thinkstats2.Hist(BSIP_1['Nodeg'])\n",
    "thinkplot.Hist(ms_hist,align='left',width=width)\n",
    "thinkplot.Config(ylabel=\"Count\", xlabel=\" Category\")\n",
    "\n",
    "BSIP_1['Nodeg'].value_counts().sort_index()"
   ]
  },
  {
   "cell_type": "code",
   "execution_count": 30,
   "metadata": {},
   "outputs": [
    {
     "data": {
      "text/plain": [
       "NotBlack    14816\n",
       "black        1176\n",
       "Name: Race, dtype: int64"
      ]
     },
     "execution_count": 30,
     "metadata": {},
     "output_type": "execute_result"
    },
    {
     "data": {
      "image/png": "[encoded data removed]",
      "text/plain": [
       "<Figure size 432x288 with 1 Axes>"
      ]
     },
     "metadata": {
      "needs_background": "light"
     },
     "output_type": "display_data"
    }
   ],
   "source": [
    "#Based on the count from \"Race\" data and US Census Bureau, the population as at Jan,2022 is 332,403,650. \n",
    "#sorted value for Race show that less than 10% of the  current population was analysed. \n",
    "# Hence this is not a true repesentation of the population\n",
    "width=0.4\n",
    "race_data= BSIP_1[\"Race\"]\n",
    "race_hist=thinkstats2.Hist(BSIP_1['Race'])\n",
    "thinkplot.Hist(race_hist,align='left',width=width)\n",
    "thinkplot.Config(ylabel=\"Count\", xlabel=\" Category\")\n",
    "\n",
    "BSIP_1['Race'].value_counts().sort_index()"
   ]
  },
  {
   "cell_type": "markdown",
   "metadata": {},
   "source": [
    "##### Demographic Conclusion\n"
   ]
  },
  {
   "cell_type": "code",
   "execution_count": null,
   "metadata": {},
   "outputs": [],
   "source": [
    "#Based on the count from \"Marital Status\" data and US Census Bureau, the population as at Jan,2022 is 332,403,650. \n",
    "#sorted value for Marital Status show that less than 10% of the  current population was analysed. \n",
    "# Hence this is not a true repesentation of the population\n",
    "width=0.4\n",
    "ms_data= BSIP_1[\"MaritalStatus\"]\n",
    "ms_hist=thinkstats2.Hist(BSIP_1['MaritalStatus'])\n",
    "thinkplot.Hist(ms_hist,align='left',width=width)\n",
    "thinkplot.Config(ylabel=\"Count\", xlabel=\" Category\")\n",
    "\n",
    "BSIP_1['MaritalStatus'].value_counts().sort_index()"
   ]
  },
  {
   "cell_type": "code",
   "execution_count": null,
   "metadata": {},
   "outputs": [],
   "source": [
    "#Based on the count from \"No deg\" data and US Census Bureau, the population as at Jan,2022 is 332,403,650. \n",
    "#sorted value for No deg show that less than 10% of the  current population was analysed. \n",
    "# Hence this is not a true representation of the population\n",
    "width=0.4\n",
    "nodeg_data= BSIP_1[\"Nodeg\"]\n",
    "nodeg_hist=thinkstats2.Hist(BSIP_1['Nodeg'])\n",
    "thinkplot.Hist(ms_hist,align='left',width=width)\n",
    "thinkplot.Config(ylabel=\"Count\", xlabel=\" Category\")\n",
    "\n",
    "BSIP_1['Nodeg'].value_counts().sort_index()"
   ]
  },
  {
   "cell_type": "code",
   "execution_count": null,
   "metadata": {},
   "outputs": [],
   "source": [
    "#Based on the count from \"Race\" data and US Census Bureau, the population as at Jan,2022 is 332,403,650. \n",
    "#sorted value for Race show that less than 10% of the  current population was analysed. \n",
    "# Hence this is not a true repesentation of the population\n",
    "width=0.4\n",
    "race_data= BSIP_1[\"Race\"]\n",
    "race_hist=thinkstats2.Hist(BSIP_1['Race'])\n",
    "thinkplot.Hist(race_hist,align='left',width=width)\n",
    "thinkplot.Config(ylabel=\"Count\", xlabel=\" Category\")\n",
    "\n",
    "BSIP_1['Race'].value_counts().sort_index()"
   ]
  },
  {
   "cell_type": "markdown",
   "metadata": {},
   "source": [
    "### Part 3 - Earnings\n",
    "\n",
    "<ol>\n",
    "<li>Make and plot a graph or graph of your choosing of the 3 earnings values, in order to answer the below question. Identify how the graph gave you your answer.\n",
    "    <ul>\n",
    "    <li>What is one conclusion could you draw from visualizing of the earnings in the different year? Please express it in plain language/non-statistics terms/as though you were explaining to one of your friends what happened to earnings between 1974 and 1978?\n",
    "    </ul>\n",
    "<li>Which has the greatest effect size on 1978 earnings: Race, Hispanic, MaritalStatus, or Nodeg? \n",
    "    <ul>\n",
    "    <li>What could you investigate further in an attempt to explain this?\n",
    "    </ul>\n",
    "<li>Plot a histogram and PMF, and compute useful descriptive statistics (think: average...) for the 1978 earnings value. Use the \"Cohorts\" code from the quiz to break the data into cohorts, plotting each group (either on one chart, or separately, whichever makes the most sense for examining the data - state specifically why you chose 1 vs many charts.\n",
    "    <ul>\n",
    "    <li>What is the difference in median income between the groups?\n",
    "    <li>Theorize a reason for the difference between the groups that could be explained with more data. Briefly describe the data you'd need. This does not need to be something you have data for, or know how to solve right now - just one well founded hypothesis on what might explain the difference.\n",
    "    </ul>\n",
    "<li>Are there outliers in the 1978 earnings data? Demonstrate this in some way with your code. \n",
    "    <ul>\n",
    "    <li>What can you infer from the presence of outliers that may impact analysis of this data.\n",
    "    </ul>\n",
    "</ol>"
   ]
  },
  {
   "cell_type": "markdown",
   "metadata": {},
   "source": [
    "##### Plot Earnings Data"
   ]
  },
  {
   "cell_type": "code",
   "execution_count": 31,
   "metadata": {},
   "outputs": [
    {
     "data": {
      "image/png": "[encoded data removed]",
      "text/plain": [
       "<Figure size 432x288 with 1 Axes>"
      ]
     },
     "metadata": {
      "needs_background": "light"
     },
     "output_type": "display_data"
    },
    {
     "data": {
      "image/png": "[encoded data removed]",
      "text/plain": [
       "<Figure size 432x288 with 1 Axes>"
      ]
     },
     "metadata": {
      "needs_background": "light"
     },
     "output_type": "display_data"
    },
    {
     "name": "stdout",
     "output_type": "stream",
     "text": [
      "count    15992.00\n",
      "mean     14016.80\n",
      "std       9569.80\n",
      "min          0.00\n",
      "25%       4403.45\n",
      "50%      15123.58\n",
      "75%      23584.18\n",
      "max      25862.32\n",
      "Name: Earnings_1974, dtype: float64 count    15992.00\n",
      "mean     13650.80\n",
      "std       9270.40\n",
      "min          0.00\n",
      "25%       4398.82\n",
      "50%      14557.11\n",
      "75%      22923.74\n",
      "max      25243.55\n",
      "Name: Earnings_1975, dtype: float64 count    15992.00\n",
      "mean     14846.66\n",
      "std       9647.39\n",
      "min          0.00\n",
      "25%       5669.30\n",
      "50%      16421.97\n",
      "75%      25564.67\n",
      "max      25564.67\n",
      "Name: Earnings_1978, dtype: float64\n"
     ]
    },
    {
     "data": {
      "image/png": "[encoded data removed]",
      "text/plain": [
       "<Figure size 432x288 with 1 Axes>"
      ]
     },
     "metadata": {
      "needs_background": "light"
     },
     "output_type": "display_data"
    }
   ],
   "source": [
    "import matplotlib.pyplot as plt\n",
    "\n",
    "from thinkplot import axvline \n",
    "\n",
    "data_path = \"LabourTrainingEvaluationData.csv\"\n",
    "BSIP_1 = pd.read_csv(data_path)\n",
    "data=BSIP_1\n",
    "data=pd.DataFrame(data=data)\n",
    "age=data.Age.values\n",
    "earnings_1974=data.Earnings_1974.values\n",
    "earnings_1975=data.Earnings_1975.values\n",
    "earnings_1978=data.Earnings_1978.values\n",
    "plt.hist(earnings_1974,bins=50)\n",
    "plt.xlabel('Earnings_1974 ($)')\n",
    "plt.ylabel('Count')\n",
    "plt.show()\n",
    "plt.hist(earnings_1975,bins=50)\n",
    "plt.xlabel('Earnings_1975 ($)')\n",
    "plt.ylabel('Count')\n",
    "plt.show()\n",
    "plt.hist(earnings_1978,bins=50)\n",
    "plt.xlabel('Earnings_1978 ($)')\n",
    "plt.ylabel('Count')\n",
    "\n",
    "\n",
    "print (round((BSIP_1[\"Earnings_1974\"].describe(include=\"all\")),2),round((BSIP_1[\"Earnings_1975\"].describe(include=\"all\")),2),round((BSIP_1[\"Earnings_1978\"].describe(include=\"all\")),2))\n"
   ]
  },
  {
   "cell_type": "markdown",
   "metadata": {},
   "source": [
    "As a conclusion, there seems to be a large jump in the number of people earning near the top end, around $25k. Otherwise the distributions are pretty similar. "
   ]
  },
  {
   "cell_type": "markdown",
   "metadata": {},
   "source": [
    "##### What to Investigate Further\n"
   ]
  },
  {
   "cell_type": "markdown",
   "metadata": {},
   "source": [
    "##### Histogram and PMF"
   ]
  },
  {
   "cell_type": "code",
   "execution_count": null,
   "metadata": {},
   "outputs": [],
   "source": [
    "#QUestion\n",
    "#Create a hist, pmf, and stats for 1987 Earnings\n",
    "#Note: if you don't round or otherwise create bins, the thinkstats plots for this will be weird\n",
    "#That's because there are very few values that are the same, e.g. $14762.34, $15672.86, etc... \n",
    "#Every cent is a different value. \n",
    "#Seaborn plots will probably look better by default. "
   ]
  },
  {
   "cell_type": "code",
   "execution_count": 32,
   "metadata": {},
   "outputs": [
    {
     "data": {
      "image/png": "[encoded data removed]",
      "text/plain": [
       "<Figure size 576x360 with 1 Axes>"
      ]
     },
     "metadata": {
      "needs_background": "light"
     },
     "output_type": "display_data"
    },
    {
     "data": {
      "image/png": "[encoded data removed]",
      "text/plain": [
       "<Figure size 576x360 with 1 Axes>"
      ]
     },
     "metadata": {
      "needs_background": "light"
     },
     "output_type": "display_data"
    },
    {
     "name": "stdout",
     "output_type": "stream",
     "text": [
      "Effect Size Marriage Status 0.40402190894232887\n",
      "Effect Size Race 0.0\n",
      "Effect Size Hisp 0.0\n",
      "Effect size No Deg -0.3367928897615812\n"
     ]
    },
    {
     "data": {
      "image/png": "[encoded data removed]",
      "text/plain": [
       "<Figure size 576x360 with 1 Axes>"
      ]
     },
     "metadata": {
      "needs_background": "light"
     },
     "output_type": "display_data"
    }
   ],
   "source": [
    "import pandas as pd\n",
    "import matplotlib.pyplot as plt\n",
    "import numpy as np\n",
    "\n",
    "import statsmodels.api as sm\n",
    "\n",
    "data_path = \"LabourTrainingEvaluationData.csv\"\n",
    "BSIP_1 = pd.read_csv(data_path)\n",
    "data=BSIP_1\n",
    "data=pd.DataFrame(data=data)\n",
    "\n",
    "# Regression analysis performed to estimate p value\n",
    "\n",
    "\n",
    "\n",
    "\n",
    "\n",
    "# Estimating mean value for each group\n",
    "\n",
    "Mar_Data= data[data['MaritalStatus'].str.contains('Married')].Earnings_1978.mean()\n",
    "Not_Mar_Data= data[data['MaritalStatus'].str.contains('NotMarried')].Earnings_1978.mean()\n",
    "\n",
    "Race_data= data[data['Race'].str.contains('Black')].Earnings_1978.mean()\n",
    "Race_data_2= data[data['Race'].str.contains('NotBlack')].Earnings_1978.mean()\n",
    "\n",
    "Hisp_data= data[data['Hisp'].str.contains('Hispanic')].Earnings_1978.mean()\n",
    "Hisp_data_2= data[data['Hisp'].str.contains('NotHispanic')].Earnings_1978.mean()\n",
    "\n",
    "Nodeg_data= data[data['Nodeg']>0].Earnings_1978.mean()\n",
    "Nodeg_data_2= data[data['Nodeg']==0].Earnings_1978.mean()\n",
    "\n",
    "objects = ('Married', 'Not Married', 'Black', 'Not Black', 'Hispanic', 'Not Hispanic','Degree', 'No Degree')\n",
    "y_pos = np.arange(len(objects))\n",
    "groups = [Mar_Data,Not_Mar_Data,Race_data,Race_data_2,Hisp_data,Hisp_data_2,Nodeg_data,Nodeg_data_2]\n",
    "plt.figure(figsize=(8,5))\n",
    "plt.bar(y_pos, groups, align='center', alpha=0.5)\n",
    "plt.xticks(y_pos, objects)\n",
    "plt.ylabel('Mean Earning 1978')\n",
    "\n",
    "plt.show()\n",
    "\n",
    "Mar_Data= data[data['MaritalStatus'].str.contains('Married')].Earnings_1978.max()\n",
    "Not_Mar_Data= data[data['MaritalStatus'].str.contains('NotMarried')].Earnings_1978.max()\n",
    "\n",
    "Race_data= data[data['Race'].str.contains('Black')].Earnings_1978.max()\n",
    "Race_data_2= data[data['Race'].str.contains('NotBlack')].Earnings_1978.max()\n",
    "\n",
    "Hisp_data= data[data['Hisp'].str.contains('Hispanic')].Earnings_1978.max()\n",
    "Hisp_data_2= data[data['Hisp'].str.contains('NotHispanic')].Earnings_1978.max()\n",
    "\n",
    "Nodeg_data= data[data['Nodeg']>0].Earnings_1978.max()\n",
    "Nodeg_data_2= data[data['Nodeg']==0].Earnings_1978.max()\n",
    "\n",
    "objects = ('Married', 'Not Married', 'Black', 'Not Black', 'Hispanic', 'Not Hispanic','Degree', 'No Degree')\n",
    "y_pos = np.arange(len(objects))\n",
    "groups = [Mar_Data,Not_Mar_Data,Race_data,Race_data_2,Hisp_data,Hisp_data_2,Nodeg_data,Nodeg_data_2]\n",
    "plt.figure(figsize=(8,5))\n",
    "plt.bar(y_pos, groups, align='center', alpha=0.5)\n",
    "plt.xticks(y_pos, objects)\n",
    "plt.ylabel('Max Earning 1978')\n",
    "\n",
    "plt.show()\n",
    "\n",
    "Mar_Data= data[data['MaritalStatus'].str.contains('Married')].Earnings_1978.min()\n",
    "Not_Mar_Data= data[data['MaritalStatus'].str.contains('NotMarried')].Earnings_1978.min()\n",
    "\n",
    "Race_data= data[data['Race'].str.contains('Black')].Earnings_1978.min()\n",
    "Race_data_2= data[data['Race'].str.contains('NotBlack')].Earnings_1978.min()\n",
    "\n",
    "Hisp_data= data[data['Hisp'].str.contains('Hispanic')].Earnings_1978.min()\n",
    "Hisp_data_2= data[data['Hisp'].str.contains('NotHispanic')].Earnings_1978.min()\n",
    "\n",
    "Nodeg_data= data[data['Nodeg']>0].Earnings_1978.min()\n",
    "Nodeg_data_2= data[data['Nodeg']==0].Earnings_1978.min()\n",
    "\n",
    "objects = ('Married', 'Not Married', 'Black', 'Not Black', 'Hispanic', 'Not Hispanic','Degree', 'No Degree')\n",
    "y_pos = np.arange(len(objects))\n",
    "groups = [Mar_Data,Not_Mar_Data,Race_data,Race_data_2,Hisp_data,Hisp_data_2,Nodeg_data,Nodeg_data_2]\n",
    "plt.figure(figsize=(8,5))\n",
    "plt.bar(y_pos, groups, align='center', alpha=0.5)\n",
    "plt.xticks(y_pos, objects)\n",
    "plt.ylabel('Max Earning 1978')\n",
    "\n",
    "# The trend in the mean,max and min earnings in 1978 can be used to estimate the most influncial variable.\n",
    "\n",
    "# Marriage status seems to be the key driver as un married individuals on average earned less than married individuals\n",
    "Mar_Data= data[data['MaritalStatus'].str.contains('Married')].Earnings_1978\n",
    "Not_Mar_Data= data[data['MaritalStatus'].str.contains('NotMarried')].Earnings_1978\n",
    "\n",
    "Race_data= data[data['Race'].str.contains('Black')].Earnings_1978\n",
    "Race_data_2= data[data['Race'].str.contains('NotBlack')].Earnings_1978\n",
    "\n",
    "Hisp_data= data[data['Hisp'].str.contains('Hispanic')].Earnings_1978\n",
    "Hisp_data_2= data[data['Hisp'].str.contains('NotHispanic')].Earnings_1978\n",
    "\n",
    "Nodeg_data= data[data['Nodeg']>0].Earnings_1978\n",
    "Nodeg_data_2= data[data['Nodeg']==0].Earnings_1978\n",
    "\n",
    "def CohenEffectSize(group1, group2):\n",
    "    \"\"\"Computes Cohen's effect size for two groups.\n",
    "    \n",
    "    group1: Series or DataFrame\n",
    "    group2: Series or DataFrame\n",
    "    \n",
    "    returns: float if the arguments are Series;\n",
    "             Series if the arguments are DataFrames\n",
    "    \"\"\"\n",
    "    diff = group1.mean() - group2.mean()\n",
    "\n",
    "    var1 = group1.var()\n",
    "    var2 = group2.var()\n",
    "    n1, n2 = len(group1), len(group2)\n",
    "\n",
    "    pooled_var = (n1 * var1 + n2 * var2) / (n1 + n2)\n",
    "    d = diff / np.sqrt(pooled_var)\n",
    "    return d\n",
    "print('Effect Size Marriage Status',CohenEffectSize( Mar_Data,Not_Mar_Data))\n",
    "\n",
    "print('Effect Size Race',CohenEffectSize( Race_data,Race_data_2))\n",
    "\n",
    "\n",
    "print('Effect Size Hisp', CohenEffectSize( Hisp_data,Hisp_data_2))\n",
    "\n",
    "print('Effect size No Deg',CohenEffectSize( Nodeg_data,Nodeg_data_2))\n",
    "\n",
    "#Maximum Effect SIze is Marriage Status -Not Married\n",
    "    \n"
   ]
  },
  {
   "cell_type": "markdown",
   "metadata": {},
   "source": [
    "##### Differences in Median Income, and Theory on Why\n"
   ]
  },
  {
   "cell_type": "markdown",
   "metadata": {},
   "source": [
    "##### Outliers"
   ]
  },
  {
   "cell_type": "code",
   "execution_count": 35,
   "metadata": {},
   "outputs": [
    {
     "name": "stdout",
     "output_type": "stream",
     "text": [
      "15123.58\n",
      "14557.11\n",
      "16421.975\n"
     ]
    }
   ],
   "source": [
    "print(BSIP_1[\"Earnings_1974\"].median())\n",
    "print(BSIP_1[\"Earnings_1975\"].median())\n",
    "print(BSIP_1[\"Earnings_1978\"].median())"
   ]
  },
  {
   "cell_type": "markdown",
   "metadata": {},
   "source": [
    "##### Outlier Conclusions\n"
   ]
  }
 ],
 "metadata": {
  "kernelspec": {
   "display_name": "Python 3.8.5 ('base')",
   "language": "python",
   "name": "python3"
  },
  "language_info": {
   "codemirror_mode": {
    "name": "ipython",
    "version": 3
   },
   "file_extension": ".py",
   "mimetype": "text/x-python",
   "name": "python",
   "nbconvert_exporter": "python",
   "pygments_lexer": "ipython3",
   "version": "3.8.5"
  },
  "orig_nbformat": 4,
  "vscode": {
   "interpreter": {
    "hash": "92de5d907a5d85b8800a0104ad6c97000cc3e9e894a3ffe03e65b6f544895834"
   }
  }
 },
 "nbformat": 4,
 "nbformat_minor": 2
}
